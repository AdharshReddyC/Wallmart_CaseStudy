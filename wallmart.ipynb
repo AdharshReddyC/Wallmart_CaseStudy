{
  "nbformat": 4,
  "nbformat_minor": 0,
  "metadata": {
    "colab": {
      "provenance": [],
      "include_colab_link": true
    },
    "kernelspec": {
      "name": "python3",
      "display_name": "Python 3"
    },
    "language_info": {
      "name": "python"
    }
  },
  "cells": [
    {
      "cell_type": "markdown",
      "metadata": {
        "id": "view-in-github",
        "colab_type": "text"
      },
      "source": [
        "<a href=\"https://colab.research.google.com/github/AdharshReddyC/Wallmart_CaseStudy/blob/main/wallmart.ipynb\" target=\"_parent\"><img src=\"https://colab.research.google.com/assets/colab-badge.svg\" alt=\"Open In Colab\"/></a>"
      ]
    },
    {
      "cell_type": "code",
      "execution_count": 3,
      "metadata": {
        "id": "viZSvsm7wsu3"
      },
      "outputs": [],
      "source": [
        "import numpy as np #importing libraries\n",
        "import pandas as pd\n",
        "import seaborn as sns\n",
        "import matplotlib.pyplot as plt\n",
        "from scipy import stats"
      ]
    },
    {
      "cell_type": "code",
      "source": [
        "df = pd.read_csv('walmart_data.txt') #loading the dataset"
      ],
      "metadata": {
        "id": "tcJLKEXOrsVW"
      },
      "execution_count": 4,
      "outputs": []
    },
    {
      "cell_type": "code",
      "source": [
        "df.head(10) #To show the first 5 rows of the dataset"
      ],
      "metadata": {
        "colab": {
          "base_uri": "https://localhost:8080/",
          "height": 363
        },
        "id": "LC74dS7zsGs4",
        "outputId": "9b43906a-c93f-4b5a-c8f3-061f70bc9180"
      },
      "execution_count": 5,
      "outputs": [
        {
          "output_type": "execute_result",
          "data": {
            "text/plain": [
              "   User_ID Product_ID Gender    Age  Occupation City_Category  \\\n",
              "0  1000001  P00069042      F   0-17        10.0             A   \n",
              "1  1000001  P00248942      F   0-17        10.0             A   \n",
              "2  1000001  P00087842      F   0-17        10.0             A   \n",
              "3  1000001  P00085442      F   0-17        10.0             A   \n",
              "4  1000002  P00285442      M    55+        16.0             C   \n",
              "5  1000003  P00193542      M  26-35        15.0             A   \n",
              "6  1000004  P00184942      M  46-50         7.0             B   \n",
              "7  1000004  P00346142      M  46-50         7.0             B   \n",
              "8  1000004   P0097242      M  46-50         7.0             B   \n",
              "9  1000005  P00274942      M  26-35        20.0             A   \n",
              "\n",
              "  Stay_In_Current_City_Years  Marital_Status  Product_Category  Purchase  \n",
              "0                          2             0.0               3.0    8370.0  \n",
              "1                          2             0.0               1.0   15200.0  \n",
              "2                          2             0.0              12.0    1422.0  \n",
              "3                          2             0.0              12.0    1057.0  \n",
              "4                         4+             0.0               8.0    7969.0  \n",
              "5                          3             0.0               1.0   15227.0  \n",
              "6                          2             1.0               1.0   19215.0  \n",
              "7                          2             1.0               1.0   15854.0  \n",
              "8                          2             1.0               1.0   15686.0  \n",
              "9                          1             1.0               8.0    7871.0  "
            ],
            "text/html": [
              "\n",
              "  <div id=\"df-c1c2c43e-c0d0-4e09-9ce4-c557da34ad8f\" class=\"colab-df-container\">\n",
              "    <div>\n",
              "<style scoped>\n",
              "    .dataframe tbody tr th:only-of-type {\n",
              "        vertical-align: middle;\n",
              "    }\n",
              "\n",
              "    .dataframe tbody tr th {\n",
              "        vertical-align: top;\n",
              "    }\n",
              "\n",
              "    .dataframe thead th {\n",
              "        text-align: right;\n",
              "    }\n",
              "</style>\n",
              "<table border=\"1\" class=\"dataframe\">\n",
              "  <thead>\n",
              "    <tr style=\"text-align: right;\">\n",
              "      <th></th>\n",
              "      <th>User_ID</th>\n",
              "      <th>Product_ID</th>\n",
              "      <th>Gender</th>\n",
              "      <th>Age</th>\n",
              "      <th>Occupation</th>\n",
              "      <th>City_Category</th>\n",
              "      <th>Stay_In_Current_City_Years</th>\n",
              "      <th>Marital_Status</th>\n",
              "      <th>Product_Category</th>\n",
              "      <th>Purchase</th>\n",
              "    </tr>\n",
              "  </thead>\n",
              "  <tbody>\n",
              "    <tr>\n",
              "      <th>0</th>\n",
              "      <td>1000001</td>\n",
              "      <td>P00069042</td>\n",
              "      <td>F</td>\n",
              "      <td>0-17</td>\n",
              "      <td>10.0</td>\n",
              "      <td>A</td>\n",
              "      <td>2</td>\n",
              "      <td>0.0</td>\n",
              "      <td>3.0</td>\n",
              "      <td>8370.0</td>\n",
              "    </tr>\n",
              "    <tr>\n",
              "      <th>1</th>\n",
              "      <td>1000001</td>\n",
              "      <td>P00248942</td>\n",
              "      <td>F</td>\n",
              "      <td>0-17</td>\n",
              "      <td>10.0</td>\n",
              "      <td>A</td>\n",
              "      <td>2</td>\n",
              "      <td>0.0</td>\n",
              "      <td>1.0</td>\n",
              "      <td>15200.0</td>\n",
              "    </tr>\n",
              "    <tr>\n",
              "      <th>2</th>\n",
              "      <td>1000001</td>\n",
              "      <td>P00087842</td>\n",
              "      <td>F</td>\n",
              "      <td>0-17</td>\n",
              "      <td>10.0</td>\n",
              "      <td>A</td>\n",
              "      <td>2</td>\n",
              "      <td>0.0</td>\n",
              "      <td>12.0</td>\n",
              "      <td>1422.0</td>\n",
              "    </tr>\n",
              "    <tr>\n",
              "      <th>3</th>\n",
              "      <td>1000001</td>\n",
              "      <td>P00085442</td>\n",
              "      <td>F</td>\n",
              "      <td>0-17</td>\n",
              "      <td>10.0</td>\n",
              "      <td>A</td>\n",
              "      <td>2</td>\n",
              "      <td>0.0</td>\n",
              "      <td>12.0</td>\n",
              "      <td>1057.0</td>\n",
              "    </tr>\n",
              "    <tr>\n",
              "      <th>4</th>\n",
              "      <td>1000002</td>\n",
              "      <td>P00285442</td>\n",
              "      <td>M</td>\n",
              "      <td>55+</td>\n",
              "      <td>16.0</td>\n",
              "      <td>C</td>\n",
              "      <td>4+</td>\n",
              "      <td>0.0</td>\n",
              "      <td>8.0</td>\n",
              "      <td>7969.0</td>\n",
              "    </tr>\n",
              "    <tr>\n",
              "      <th>5</th>\n",
              "      <td>1000003</td>\n",
              "      <td>P00193542</td>\n",
              "      <td>M</td>\n",
              "      <td>26-35</td>\n",
              "      <td>15.0</td>\n",
              "      <td>A</td>\n",
              "      <td>3</td>\n",
              "      <td>0.0</td>\n",
              "      <td>1.0</td>\n",
              "      <td>15227.0</td>\n",
              "    </tr>\n",
              "    <tr>\n",
              "      <th>6</th>\n",
              "      <td>1000004</td>\n",
              "      <td>P00184942</td>\n",
              "      <td>M</td>\n",
              "      <td>46-50</td>\n",
              "      <td>7.0</td>\n",
              "      <td>B</td>\n",
              "      <td>2</td>\n",
              "      <td>1.0</td>\n",
              "      <td>1.0</td>\n",
              "      <td>19215.0</td>\n",
              "    </tr>\n",
              "    <tr>\n",
              "      <th>7</th>\n",
              "      <td>1000004</td>\n",
              "      <td>P00346142</td>\n",
              "      <td>M</td>\n",
              "      <td>46-50</td>\n",
              "      <td>7.0</td>\n",
              "      <td>B</td>\n",
              "      <td>2</td>\n",
              "      <td>1.0</td>\n",
              "      <td>1.0</td>\n",
              "      <td>15854.0</td>\n",
              "    </tr>\n",
              "    <tr>\n",
              "      <th>8</th>\n",
              "      <td>1000004</td>\n",
              "      <td>P0097242</td>\n",
              "      <td>M</td>\n",
              "      <td>46-50</td>\n",
              "      <td>7.0</td>\n",
              "      <td>B</td>\n",
              "      <td>2</td>\n",
              "      <td>1.0</td>\n",
              "      <td>1.0</td>\n",
              "      <td>15686.0</td>\n",
              "    </tr>\n",
              "    <tr>\n",
              "      <th>9</th>\n",
              "      <td>1000005</td>\n",
              "      <td>P00274942</td>\n",
              "      <td>M</td>\n",
              "      <td>26-35</td>\n",
              "      <td>20.0</td>\n",
              "      <td>A</td>\n",
              "      <td>1</td>\n",
              "      <td>1.0</td>\n",
              "      <td>8.0</td>\n",
              "      <td>7871.0</td>\n",
              "    </tr>\n",
              "  </tbody>\n",
              "</table>\n",
              "</div>\n",
              "    <div class=\"colab-df-buttons\">\n",
              "\n",
              "  <div class=\"colab-df-container\">\n",
              "    <button class=\"colab-df-convert\" onclick=\"convertToInteractive('df-c1c2c43e-c0d0-4e09-9ce4-c557da34ad8f')\"\n",
              "            title=\"Convert this dataframe to an interactive table.\"\n",
              "            style=\"display:none;\">\n",
              "\n",
              "  <svg xmlns=\"http://www.w3.org/2000/svg\" height=\"24px\" viewBox=\"0 -960 960 960\">\n",
              "    <path d=\"M120-120v-720h720v720H120Zm60-500h600v-160H180v160Zm220 220h160v-160H400v160Zm0 220h160v-160H400v160ZM180-400h160v-160H180v160Zm440 0h160v-160H620v160ZM180-180h160v-160H180v160Zm440 0h160v-160H620v160Z\"/>\n",
              "  </svg>\n",
              "    </button>\n",
              "\n",
              "  <style>\n",
              "    .colab-df-container {\n",
              "      display:flex;\n",
              "      gap: 12px;\n",
              "    }\n",
              "\n",
              "    .colab-df-convert {\n",
              "      background-color: #E8F0FE;\n",
              "      border: none;\n",
              "      border-radius: 50%;\n",
              "      cursor: pointer;\n",
              "      display: none;\n",
              "      fill: #1967D2;\n",
              "      height: 32px;\n",
              "      padding: 0 0 0 0;\n",
              "      width: 32px;\n",
              "    }\n",
              "\n",
              "    .colab-df-convert:hover {\n",
              "      background-color: #E2EBFA;\n",
              "      box-shadow: 0px 1px 2px rgba(60, 64, 67, 0.3), 0px 1px 3px 1px rgba(60, 64, 67, 0.15);\n",
              "      fill: #174EA6;\n",
              "    }\n",
              "\n",
              "    .colab-df-buttons div {\n",
              "      margin-bottom: 4px;\n",
              "    }\n",
              "\n",
              "    [theme=dark] .colab-df-convert {\n",
              "      background-color: #3B4455;\n",
              "      fill: #D2E3FC;\n",
              "    }\n",
              "\n",
              "    [theme=dark] .colab-df-convert:hover {\n",
              "      background-color: #434B5C;\n",
              "      box-shadow: 0px 1px 3px 1px rgba(0, 0, 0, 0.15);\n",
              "      filter: drop-shadow(0px 1px 2px rgba(0, 0, 0, 0.3));\n",
              "      fill: #FFFFFF;\n",
              "    }\n",
              "  </style>\n",
              "\n",
              "    <script>\n",
              "      const buttonEl =\n",
              "        document.querySelector('#df-c1c2c43e-c0d0-4e09-9ce4-c557da34ad8f button.colab-df-convert');\n",
              "      buttonEl.style.display =\n",
              "        google.colab.kernel.accessAllowed ? 'block' : 'none';\n",
              "\n",
              "      async function convertToInteractive(key) {\n",
              "        const element = document.querySelector('#df-c1c2c43e-c0d0-4e09-9ce4-c557da34ad8f');\n",
              "        const dataTable =\n",
              "          await google.colab.kernel.invokeFunction('convertToInteractive',\n",
              "                                                    [key], {});\n",
              "        if (!dataTable) return;\n",
              "\n",
              "        const docLinkHtml = 'Like what you see? Visit the ' +\n",
              "          '<a target=\"_blank\" href=https://colab.research.google.com/notebooks/data_table.ipynb>data table notebook</a>'\n",
              "          + ' to learn more about interactive tables.';\n",
              "        element.innerHTML = '';\n",
              "        dataTable['output_type'] = 'display_data';\n",
              "        await google.colab.output.renderOutput(dataTable, element);\n",
              "        const docLink = document.createElement('div');\n",
              "        docLink.innerHTML = docLinkHtml;\n",
              "        element.appendChild(docLink);\n",
              "      }\n",
              "    </script>\n",
              "  </div>\n",
              "\n",
              "\n",
              "<div id=\"df-b96d68e4-2e45-441c-8dec-3ecb5cc8d60c\">\n",
              "  <button class=\"colab-df-quickchart\" onclick=\"quickchart('df-b96d68e4-2e45-441c-8dec-3ecb5cc8d60c')\"\n",
              "            title=\"Suggest charts\"\n",
              "            style=\"display:none;\">\n",
              "\n",
              "<svg xmlns=\"http://www.w3.org/2000/svg\" height=\"24px\"viewBox=\"0 0 24 24\"\n",
              "     width=\"24px\">\n",
              "    <g>\n",
              "        <path d=\"M19 3H5c-1.1 0-2 .9-2 2v14c0 1.1.9 2 2 2h14c1.1 0 2-.9 2-2V5c0-1.1-.9-2-2-2zM9 17H7v-7h2v7zm4 0h-2V7h2v10zm4 0h-2v-4h2v4z\"/>\n",
              "    </g>\n",
              "</svg>\n",
              "  </button>\n",
              "\n",
              "<style>\n",
              "  .colab-df-quickchart {\n",
              "      --bg-color: #E8F0FE;\n",
              "      --fill-color: #1967D2;\n",
              "      --hover-bg-color: #E2EBFA;\n",
              "      --hover-fill-color: #174EA6;\n",
              "      --disabled-fill-color: #AAA;\n",
              "      --disabled-bg-color: #DDD;\n",
              "  }\n",
              "\n",
              "  [theme=dark] .colab-df-quickchart {\n",
              "      --bg-color: #3B4455;\n",
              "      --fill-color: #D2E3FC;\n",
              "      --hover-bg-color: #434B5C;\n",
              "      --hover-fill-color: #FFFFFF;\n",
              "      --disabled-bg-color: #3B4455;\n",
              "      --disabled-fill-color: #666;\n",
              "  }\n",
              "\n",
              "  .colab-df-quickchart {\n",
              "    background-color: var(--bg-color);\n",
              "    border: none;\n",
              "    border-radius: 50%;\n",
              "    cursor: pointer;\n",
              "    display: none;\n",
              "    fill: var(--fill-color);\n",
              "    height: 32px;\n",
              "    padding: 0;\n",
              "    width: 32px;\n",
              "  }\n",
              "\n",
              "  .colab-df-quickchart:hover {\n",
              "    background-color: var(--hover-bg-color);\n",
              "    box-shadow: 0 1px 2px rgba(60, 64, 67, 0.3), 0 1px 3px 1px rgba(60, 64, 67, 0.15);\n",
              "    fill: var(--button-hover-fill-color);\n",
              "  }\n",
              "\n",
              "  .colab-df-quickchart-complete:disabled,\n",
              "  .colab-df-quickchart-complete:disabled:hover {\n",
              "    background-color: var(--disabled-bg-color);\n",
              "    fill: var(--disabled-fill-color);\n",
              "    box-shadow: none;\n",
              "  }\n",
              "\n",
              "  .colab-df-spinner {\n",
              "    border: 2px solid var(--fill-color);\n",
              "    border-color: transparent;\n",
              "    border-bottom-color: var(--fill-color);\n",
              "    animation:\n",
              "      spin 1s steps(1) infinite;\n",
              "  }\n",
              "\n",
              "  @keyframes spin {\n",
              "    0% {\n",
              "      border-color: transparent;\n",
              "      border-bottom-color: var(--fill-color);\n",
              "      border-left-color: var(--fill-color);\n",
              "    }\n",
              "    20% {\n",
              "      border-color: transparent;\n",
              "      border-left-color: var(--fill-color);\n",
              "      border-top-color: var(--fill-color);\n",
              "    }\n",
              "    30% {\n",
              "      border-color: transparent;\n",
              "      border-left-color: var(--fill-color);\n",
              "      border-top-color: var(--fill-color);\n",
              "      border-right-color: var(--fill-color);\n",
              "    }\n",
              "    40% {\n",
              "      border-color: transparent;\n",
              "      border-right-color: var(--fill-color);\n",
              "      border-top-color: var(--fill-color);\n",
              "    }\n",
              "    60% {\n",
              "      border-color: transparent;\n",
              "      border-right-color: var(--fill-color);\n",
              "    }\n",
              "    80% {\n",
              "      border-color: transparent;\n",
              "      border-right-color: var(--fill-color);\n",
              "      border-bottom-color: var(--fill-color);\n",
              "    }\n",
              "    90% {\n",
              "      border-color: transparent;\n",
              "      border-bottom-color: var(--fill-color);\n",
              "    }\n",
              "  }\n",
              "</style>\n",
              "\n",
              "  <script>\n",
              "    async function quickchart(key) {\n",
              "      const quickchartButtonEl =\n",
              "        document.querySelector('#' + key + ' button');\n",
              "      quickchartButtonEl.disabled = true;  // To prevent multiple clicks.\n",
              "      quickchartButtonEl.classList.add('colab-df-spinner');\n",
              "      try {\n",
              "        const charts = await google.colab.kernel.invokeFunction(\n",
              "            'suggestCharts', [key], {});\n",
              "      } catch (error) {\n",
              "        console.error('Error during call to suggestCharts:', error);\n",
              "      }\n",
              "      quickchartButtonEl.classList.remove('colab-df-spinner');\n",
              "      quickchartButtonEl.classList.add('colab-df-quickchart-complete');\n",
              "    }\n",
              "    (() => {\n",
              "      let quickchartButtonEl =\n",
              "        document.querySelector('#df-b96d68e4-2e45-441c-8dec-3ecb5cc8d60c button');\n",
              "      quickchartButtonEl.style.display =\n",
              "        google.colab.kernel.accessAllowed ? 'block' : 'none';\n",
              "    })();\n",
              "  </script>\n",
              "</div>\n",
              "\n",
              "    </div>\n",
              "  </div>\n"
            ],
            "application/vnd.google.colaboratory.intrinsic+json": {
              "type": "dataframe",
              "variable_name": "df",
              "summary": "{\n  \"name\": \"df\",\n  \"rows\": 25037,\n  \"fields\": [\n    {\n      \"column\": \"User_ID\",\n      \"properties\": {\n        \"dtype\": \"number\",\n        \"std\": 1124,\n        \"min\": 1000001,\n        \"max\": 1003845,\n        \"num_unique_values\": 3388,\n        \"samples\": [\n          1003835,\n          1003732,\n          1002901\n        ],\n        \"semantic_type\": \"\",\n        \"description\": \"\"\n      }\n    },\n    {\n      \"column\": \"Product_ID\",\n      \"properties\": {\n        \"dtype\": \"category\",\n        \"num_unique_values\": 2821,\n        \"samples\": [\n          \"P00033442\",\n          \"P00292242\",\n          \"P00092242\"\n        ],\n        \"semantic_type\": \"\",\n        \"description\": \"\"\n      }\n    },\n    {\n      \"column\": \"Gender\",\n      \"properties\": {\n        \"dtype\": \"category\",\n        \"num_unique_values\": 2,\n        \"samples\": [\n          \"M\",\n          \"F\"\n        ],\n        \"semantic_type\": \"\",\n        \"description\": \"\"\n      }\n    },\n    {\n      \"column\": \"Age\",\n      \"properties\": {\n        \"dtype\": \"category\",\n        \"num_unique_values\": 7,\n        \"samples\": [\n          \"0-17\",\n          \"55+\"\n        ],\n        \"semantic_type\": \"\",\n        \"description\": \"\"\n      }\n    },\n    {\n      \"column\": \"Occupation\",\n      \"properties\": {\n        \"dtype\": \"number\",\n        \"std\": 6.533908487746812,\n        \"min\": 0.0,\n        \"max\": 20.0,\n        \"num_unique_values\": 21,\n        \"samples\": [\n          10.0,\n          5.0\n        ],\n        \"semantic_type\": \"\",\n        \"description\": \"\"\n      }\n    },\n    {\n      \"column\": \"City_Category\",\n      \"properties\": {\n        \"dtype\": \"category\",\n        \"num_unique_values\": 3,\n        \"samples\": [\n          \"A\",\n          \"C\"\n        ],\n        \"semantic_type\": \"\",\n        \"description\": \"\"\n      }\n    },\n    {\n      \"column\": \"Stay_In_Current_City_Years\",\n      \"properties\": {\n        \"dtype\": \"category\",\n        \"num_unique_values\": 5,\n        \"samples\": [\n          \"4+\",\n          \"0\"\n        ],\n        \"semantic_type\": \"\",\n        \"description\": \"\"\n      }\n    },\n    {\n      \"column\": \"Marital_Status\",\n      \"properties\": {\n        \"dtype\": \"number\",\n        \"std\": 0.4898145636193051,\n        \"min\": 0.0,\n        \"max\": 1.0,\n        \"num_unique_values\": 2,\n        \"samples\": [\n          1.0,\n          0.0\n        ],\n        \"semantic_type\": \"\",\n        \"description\": \"\"\n      }\n    },\n    {\n      \"column\": \"Product_Category\",\n      \"properties\": {\n        \"dtype\": \"number\",\n        \"std\": 3.7057298068470153,\n        \"min\": 1.0,\n        \"max\": 18.0,\n        \"num_unique_values\": 18,\n        \"samples\": [\n          3.0,\n          1.0\n        ],\n        \"semantic_type\": \"\",\n        \"description\": \"\"\n      }\n    },\n    {\n      \"column\": \"Purchase\",\n      \"properties\": {\n        \"dtype\": \"number\",\n        \"std\": 4937.285195211419,\n        \"min\": 186.0,\n        \"max\": 23958.0,\n        \"num_unique_values\": 9232,\n        \"samples\": [\n          7147.0,\n          7860.0\n        ],\n        \"semantic_type\": \"\",\n        \"description\": \"\"\n      }\n    }\n  ]\n}"
            }
          },
          "metadata": {},
          "execution_count": 5
        }
      ]
    },
    {
      "cell_type": "code",
      "source": [
        "df.info() #to get info of the dataset"
      ],
      "metadata": {
        "colab": {
          "base_uri": "https://localhost:8080/"
        },
        "id": "e_DVVH_AsKgL",
        "outputId": "76599baa-c39d-42fe-ddd1-9d53fdde5262"
      },
      "execution_count": 6,
      "outputs": [
        {
          "output_type": "stream",
          "name": "stdout",
          "text": [
            "<class 'pandas.core.frame.DataFrame'>\n",
            "RangeIndex: 25037 entries, 0 to 25036\n",
            "Data columns (total 10 columns):\n",
            " #   Column                      Non-Null Count  Dtype  \n",
            "---  ------                      --------------  -----  \n",
            " 0   User_ID                     25037 non-null  int64  \n",
            " 1   Product_ID                  25037 non-null  object \n",
            " 2   Gender                      25036 non-null  object \n",
            " 3   Age                         25036 non-null  object \n",
            " 4   Occupation                  25036 non-null  float64\n",
            " 5   City_Category               25036 non-null  object \n",
            " 6   Stay_In_Current_City_Years  25036 non-null  object \n",
            " 7   Marital_Status              25036 non-null  float64\n",
            " 8   Product_Category            25036 non-null  float64\n",
            " 9   Purchase                    25036 non-null  float64\n",
            "dtypes: float64(4), int64(1), object(5)\n",
            "memory usage: 1.9+ MB\n"
          ]
        }
      ]
    },
    {
      "cell_type": "code",
      "source": [
        "df.shape #The number of rows and columns in the dataset."
      ],
      "metadata": {
        "colab": {
          "base_uri": "https://localhost:8080/"
        },
        "id": "gLvOw8DFsT3b",
        "outputId": "6991de94-f9fb-4bb1-ca50-f25bb59cc358"
      },
      "execution_count": 7,
      "outputs": [
        {
          "output_type": "execute_result",
          "data": {
            "text/plain": [
              "(25037, 10)"
            ]
          },
          "metadata": {},
          "execution_count": 7
        }
      ]
    },
    {
      "cell_type": "markdown",
      "source": [
        "**Key Observations:**\n",
        "- The dataset contains 75133 entries.\n",
        "- The dataset contains 10 columns"
      ],
      "metadata": {
        "id": "mAIwLYXEstpI"
      }
    },
    {
      "cell_type": "code",
      "source": [
        "df.isna().sum() #To get the missing values in each column"
      ],
      "metadata": {
        "colab": {
          "base_uri": "https://localhost:8080/"
        },
        "id": "uN9p7rDysVti",
        "outputId": "836ae8cf-c9d6-43a1-86d5-85a4f0c57f54"
      },
      "execution_count": 8,
      "outputs": [
        {
          "output_type": "execute_result",
          "data": {
            "text/plain": [
              "User_ID                       0\n",
              "Product_ID                    0\n",
              "Gender                        1\n",
              "Age                           1\n",
              "Occupation                    1\n",
              "City_Category                 1\n",
              "Stay_In_Current_City_Years    1\n",
              "Marital_Status                1\n",
              "Product_Category              1\n",
              "Purchase                      1\n",
              "dtype: int64"
            ]
          },
          "metadata": {},
          "execution_count": 8
        }
      ]
    },
    {
      "cell_type": "code",
      "source": [
        "# Create a boxplot to visualize the distribution of spending for male and female customers\n",
        "plt.figure(figsize=(10, 6))\n",
        "sns.boxplot(x='Gender', y='Purchase', data=df)\n",
        "\n",
        "# Add labels and title\n",
        "plt.xlabel('Gender')\n",
        "plt.ylabel('Purchase Amount')\n",
        "plt.title('Distribution of Spending for Male and Female Customers')\n",
        "\n",
        "# Show the plot\n",
        "plt.show()\n"
      ],
      "metadata": {
        "colab": {
          "base_uri": "https://localhost:8080/",
          "height": 564
        },
        "id": "SHRNfVGyul68",
        "outputId": "208a1468-e178-41f9-d2a5-18223cd4c5e9"
      },
      "execution_count": 9,
      "outputs": [
        {
          "output_type": "display_data",
          "data": {
            "text/plain": [
              "<Figure size 1000x600 with 1 Axes>"
            ],
            "image/png": "[encoded data removed]"
          },
          "metadata": {}
        }
      ]
    },
    {
      "cell_type": "markdown",
      "source": [
        "# Analysis of Spending for Male and Female Customers\n",
        "\n",
        "In this analysis, a box plot was created to compare the distribution of spending between male and female customers during Black Friday at Walmart.\n",
        "\n",
        "## Key Observations:\n",
        "\n",
        "- **Median Spending:** The median spending for both male and female customers is approximately $7550. This suggests that, on average, half of the customers in each gender group spent below this value.\n",
        "\n",
        "- **Spending Range:** The interquartile range (IQR) for both genders indicates that the middle 50% of spending falls within the range of approximately $6000 to $12000. This suggests a consistent spending pattern among both male and female customers.\n",
        "\n",
        "## Conclusion:\n",
        "\n",
        "The box plot visualizes the central tendency and spread of spending for male and female customers, highlighting that both groups have similar median spending and spending ranges during the Black Friday sales at Walmart.\n"
      ],
      "metadata": {
        "id": "_Bb6AgJChBDn"
      }
    },
    {
      "cell_type": "code",
      "source": [
        "plt.figure(figsize=(8, 5))\n",
        "sns.countplot(x='Gender', data=df)\n",
        "plt.title('Distribution of Male and Female Customers')\n",
        "plt.show()"
      ],
      "metadata": {
        "colab": {
          "base_uri": "https://localhost:8080/",
          "height": 487
        },
        "id": "yNRXAAdoiKl1",
        "outputId": "e0caebe9-e30f-4bf9-88ba-2f8b2aeb614c"
      },
      "execution_count": 10,
      "outputs": [
        {
          "output_type": "display_data",
          "data": {
            "text/plain": [
              "<Figure size 800x500 with 1 Axes>"
            ],
            "image/png": "[encoded data removed]"
          },
          "metadata": {}
        }
      ]
    },
    {
      "cell_type": "markdown",
      "source": [
        "# Analysis of Gender Distribution among Walmart Customers\n",
        "\n",
        "In this analysis, a countplot was utilized to visualize the distribution of male and female customers who made purchases during Black Friday at Walmart.\n",
        "\n",
        "## Key Observations:\n",
        "\n",
        "- **Female Customers:** The countplot reveals that approximately 6,000 female customers participated in the Black Friday sales event at Walmart.\n",
        "\n",
        "- **Male Customers:** In contrast, there were approximately 12,000 male customers who made purchases during the same period.\n",
        "\n",
        "## Conclusion:\n",
        "\n",
        "The countplot provides a clear overview of the gender distribution among Walmart customers on Black Friday. The higher count of male customers suggests a potential gender imbalance in the dataset, which could impact purchasing behavior and warrant further investigation.\n"
      ],
      "metadata": {
        "id": "UCqefVolivLR"
      }
    },
    {
      "cell_type": "code",
      "source": [
        "sns.histplot(df['Purchase'], bins=30, kde=True)\n",
        "plt.title('Distribution of Purchase Amounts')\n",
        "plt.xlabel('Purchase Amount')\n",
        "plt.ylabel('Frequency')\n",
        "plt.show()"
      ],
      "metadata": {
        "colab": {
          "base_uri": "https://localhost:8080/",
          "height": 472
        },
        "id": "WqU82Es8ighM",
        "outputId": "2ea992a1-725b-4fd5-fdf8-08218c0d6de9"
      },
      "execution_count": 11,
      "outputs": [
        {
          "output_type": "display_data",
          "data": {
            "text/plain": [
              "<Figure size 640x480 with 1 Axes>"
            ],
            "image/png": "[encoded data removed]"
          },
          "metadata": {}
        }
      ]
    },
    {
      "cell_type": "markdown",
      "source": [
        "# Analysis of Gender Distribution among Walmart Customers\n",
        "\n",
        "In this analysis, a countplot was utilized to visualize the distribution of male and female customers who made purchases during Black Friday at Walmart.\n",
        "\n",
        "## Key Observations:\n",
        "\n",
        "- **Female Customers:** The countplot reveals that approximately 6,000 female customers participated in the Black Friday sales event at Walmart.\n",
        "\n",
        "- **Male Customers:** In contrast, there were approximately 12,000 male customers who made purchases during the same period.\n",
        "\n",
        "## Conclusion:\n",
        "\n",
        "The countplot provides a clear overview of the gender distribution among Walmart customers on Black Friday. The higher count of male customers suggests a potential gender imbalance in the dataset, which could impact purchasing behavior and warrant further investigation.\n"
      ],
      "metadata": {
        "id": "3pgDCi3ajHGE"
      }
    },
    {
      "cell_type": "code",
      "source": [
        "\n",
        "# Assuming 'Gender' column has values 'F' and 'M'\n",
        "average_female_spending = df[df['Gender'] == 'F']['Purchase'].mean()\n",
        "average_male_spending = df[df['Gender'] == 'M']['Purchase'].mean()\n",
        "\n",
        "print(\"Average Spending for Female Customers:\", average_female_spending)\n",
        "print(\"Average Spending for Male Customers:\", average_male_spending)\n"
      ],
      "metadata": {
        "colab": {
          "base_uri": "https://localhost:8080/"
        },
        "id": "2JO8Uf7Bn1Mu",
        "outputId": "132b56a4-a676-4ae6-f5e2-91bf25359173"
      },
      "execution_count": 12,
      "outputs": [
        {
          "output_type": "stream",
          "name": "stdout",
          "text": [
            "Average Spending for Female Customers: 8730.292691198914\n",
            "Average Spending for Male Customers: 9398.277287214589\n"
          ]
        }
      ]
    },
    {
      "cell_type": "markdown",
      "source": [
        "# Gender-Based Spending Analysis\n",
        "\n",
        "## Average Spending:\n",
        "- Female customers spent an average of [average_female_spending].\n",
        "- Male customers spent an average of [average_male_spending].\n",
        "\n",
        "## Inference:\n",
        "- A 95% confidence interval for average spending was calculated for female customers.\n",
        "- An estimated 95% confidence interval for male customers was derived using female customer sample statistics.\n",
        "\n",
        "## Conclusion:\n",
        "The analysis provides insights into average spending for both genders, with confidence intervals offering a range of likely population averages. The estimated interval for males is based on observed statistics from the female customer sample.\n"
      ],
      "metadata": {
        "id": "tdfDrRfFoCeD"
      }
    },
    {
      "cell_type": "code",
      "source": [
        "\n",
        "female_sample = df[df['Gender'] == 'F']['Purchase']\n",
        "\n",
        "# Central Limit Theorem for Female Customers\n",
        "sample_mean_female = female_sample.mean()\n",
        "sample_std_female = female_sample.std()\n",
        "sample_size_female = len(female_sample)\n",
        "\n",
        "# Assuming a 95% confidence level\n",
        "z_score = stats.norm.ppf(0.975)  # 2-tailed test\n",
        "\n",
        "# Calculate the margin of error\n",
        "margin_of_error_female = z_score * (sample_std_female / np.sqrt(sample_size_female))\n",
        "\n",
        "# Calculate the confidence interval\n",
        "confidence_interval_female_clt = (sample_mean_female - margin_of_error_female, sample_mean_female + margin_of_error_female)\n",
        "\n",
        "print(\"Confidence Interval for Female Customers using CLT:\", confidence_interval_female_clt)"
      ],
      "metadata": {
        "colab": {
          "base_uri": "https://localhost:8080/"
        },
        "id": "gwM5nvmwoDm2",
        "outputId": "577e3e9f-7fac-4d51-dd3e-4497129050b5"
      },
      "execution_count": 13,
      "outputs": [
        {
          "output_type": "stream",
          "name": "stdout",
          "text": [
            "Confidence Interval for Female Customers using CLT: (8611.598235475956, 8848.987146921872)\n"
          ]
        }
      ]
    },
    {
      "cell_type": "code",
      "source": [
        "\n",
        "male_sample = df[df['Gender'] == 'M']['Purchase']\n",
        "\n",
        "# Central Limit Theorem for Male Customers\n",
        "sample_mean_male = male_sample.mean()\n",
        "sample_std_male = male_sample.std()\n",
        "sample_size_male = len(male_sample)\n",
        "\n",
        "# Assuming a 95% confidence level\n",
        "z_score = stats.norm.ppf(0.975)  # 2-tailed test\n",
        "\n",
        "# Calculate the margin of error\n",
        "margin_of_error_male = z_score * (sample_std_male / np.sqrt(sample_size_male))\n",
        "\n",
        "# Calculate the confidence interval\n",
        "confidence_interval_male_clt = (sample_mean_male - margin_of_error_male, sample_mean_male + margin_of_error_male)\n",
        "\n",
        "print(\"Confidence Interval for Male Customers using CLT:\", confidence_interval_male_clt)\n"
      ],
      "metadata": {
        "colab": {
          "base_uri": "https://localhost:8080/"
        },
        "id": "KcGSF7dErIUP",
        "outputId": "9e93618c-45c4-4f2b-c625-89b2cc574d80"
      },
      "execution_count": 14,
      "outputs": [
        {
          "output_type": "stream",
          "name": "stdout",
          "text": [
            "Confidence Interval for Male Customers using CLT: (9327.270601912533, 9469.283972516645)\n"
          ]
        }
      ]
    },
    {
      "cell_type": "markdown",
      "source": [
        "# Confidence Intervals Using Central Limit Theorem\n",
        "\n",
        "## Female Customers:\n",
        "The Central Limit Theorem was applied to calculate a 95% confidence interval for the average spending of female customers during Black Friday at Walmart. The resulting interval is (8611.60, 8848.99) USD. This suggests with 95% confidence that the true population average spending for female customers falls within this range.\n",
        "\n",
        "## Male Customers:\n",
        "Similarly, the Central Limit Theorem was utilized to compute a 95% confidence interval for the average spending of male customers. The interval obtained is (9327.27, 9469.28) USD. With 95% confidence, it is estimated that the true population average spending for male customers lies within this interval.\n",
        "\n",
        "These intervals provide a statistical range within which we can reasonably expect the average spending for female and male customers, respectively.\n"
      ],
      "metadata": {
        "id": "u8hvAq1irYCY"
      }
    },
    {
      "cell_type": "code",
      "source": [
        "\n",
        "female_sample = df[df['Gender'] == 'F']['Purchase']\n",
        "male_sample = df[df['Gender'] == 'M']['Purchase']\n",
        "\n",
        "# Function to calculate confidence interval\n",
        "def calculate_confidence_interval(sample, confidence_level):\n",
        "    sample_mean = sample.mean()\n",
        "    sample_std = sample.std()\n",
        "    sample_size = len(sample)\n",
        "\n",
        "    # Calculate the margin of error\n",
        "    z_score = stats.norm.ppf((1 + confidence_level) / 2)  # 2-tailed test\n",
        "    margin_of_error = z_score * (sample_std / np.sqrt(sample_size))\n",
        "\n",
        "    # Calculate the confidence interval\n",
        "    confidence_interval = (sample_mean - margin_of_error, sample_mean + margin_of_error)\n",
        "\n",
        "    return confidence_interval\n",
        "\n",
        "# Explore different confidence levels\n",
        "confidence_levels = [0.90, 0.95, 0.99]\n",
        "\n",
        "for confidence_level in confidence_levels:\n",
        "    # Calculate confidence interval for female customers\n",
        "    confidence_interval_female = calculate_confidence_interval(female_sample, confidence_level)\n",
        "\n",
        "    # Calculate confidence interval for male customers\n",
        "    confidence_interval_male = calculate_confidence_interval(male_sample, confidence_level)\n",
        "\n",
        "    # Print results\n",
        "    print(f\"{int(confidence_level * 100)}% Confidence Interval for Female Customers:\", confidence_interval_female)\n",
        "    print(f\"{int(confidence_level * 100)}% Confidence Interval for Male Customers:\", confidence_interval_male)\n",
        "    print()"
      ],
      "metadata": {
        "colab": {
          "base_uri": "https://localhost:8080/"
        },
        "id": "lAGfuXjcrwQg",
        "outputId": "9dab8f47-951f-4837-a6c4-3a7b3311dc3e"
      },
      "execution_count": 15,
      "outputs": [
        {
          "output_type": "stream",
          "name": "stdout",
          "text": [
            "90% Confidence Interval for Female Customers: (8630.681163877533, 8829.904218520296)\n",
            "90% Confidence Interval for Male Customers: (9338.686598417162, 9457.867976012016)\n",
            "\n",
            "95% Confidence Interval for Female Customers: (8611.598235475956, 8848.987146921872)\n",
            "95% Confidence Interval for Male Customers: (9327.270601912533, 9469.283972516645)\n",
            "\n",
            "99% Confidence Interval for Female Customers: (8574.301734410119, 8886.28364798771)\n",
            "99% Confidence Interval for Male Customers: (9304.958684326162, 9491.595890103015)\n",
            "\n"
          ]
        }
      ]
    },
    {
      "cell_type": "markdown",
      "source": [
        "# Confidence Intervals Exploration\n",
        "\n",
        "## 90% Confidence Intervals:\n",
        "\n",
        "### Female Customers:\n",
        "- The 90% confidence interval for average spending is estimated to be (8630.68, 8829.90) USD.\n",
        "\n",
        "### Male Customers:\n",
        "- The 90% confidence interval for average spending is estimated to be (9338.69, 9457.87) USD.\n",
        "\n",
        "## 95% Confidence Intervals:\n",
        "\n",
        "### Female Customers:\n",
        "- The 95% confidence interval for average spending is estimated to be (8611.60, 8848.99) USD.\n",
        "\n",
        "### Male Customers:\n",
        "- The 95% confidence interval for average spending is estimated to be (9327.27, 9469.28) USD.\n",
        "\n",
        "## 99% Confidence Intervals:\n",
        "\n",
        "### Female Customers:\n",
        "- The 99% confidence interval for average spending is estimated to be (8574.30, 8886.28) USD.\n",
        "\n",
        "### Male Customers:\n",
        "- The 99% confidence interval for average spending is estimated to be (9304.96, 9491.60) USD.\n",
        "\n",
        "**Observations:**\n",
        "- As the confidence level increases, the width of the confidence interval expands, providing a wider range of potential values for the population average.\n",
        "- Higher confidence levels result in wider intervals, offering increased certainty but sacrificing precision.\n",
        "\n",
        "**Business Considerations:**\n",
        "- The choice of confidence interval width should align with the business's risk tolerance and the importance of precision in decision-making.\n",
        "- A wider interval (e.g., 99%) may be suitable for conservative decisions, while a narrower interval (e.g., 90%) might be preferred when precision is crucial.\n",
        "\n"
      ],
      "metadata": {
        "id": "otsKVDLHr664"
      }
    },
    {
      "cell_type": "code",
      "source": [
        "# Assuming 'Marital_Status' column has values 0 and 1\n",
        "married_sample = df[df['Marital_Status'] == 1]['Purchase']\n",
        "unmarried_sample = df[df['Marital_Status'] == 0]['Purchase']\n",
        "\n",
        "# Function to calculate confidence interval\n",
        "def calculate_confidence_interval(sample, confidence_level):\n",
        "    sample_mean = sample.mean()\n",
        "    sample_std = sample.std()\n",
        "    sample_size = len(sample)\n",
        "\n",
        "    # Calculate the margin of error\n",
        "    z_score = stats.norm.ppf((1 + confidence_level) / 2)  # 2-tailed test\n",
        "    margin_of_error = z_score * (sample_std / np.sqrt(sample_size))\n",
        "\n",
        "    # Calculate the confidence interval\n",
        "    confidence_interval = (sample_mean - margin_of_error, sample_mean + margin_of_error)\n",
        "\n",
        "    return confidence_interval\n",
        "\n",
        "# Explore different confidence levels\n",
        "confidence_levels = [0.90, 0.95, 0.99]\n",
        "\n",
        "for confidence_level in confidence_levels:\n",
        "    # Calculate confidence interval for married customers\n",
        "    confidence_interval_married = calculate_confidence_interval(married_sample, confidence_level)\n",
        "\n",
        "    # Calculate confidence interval for unmarried customers\n",
        "    confidence_interval_unmarried = calculate_confidence_interval(unmarried_sample, confidence_level)\n",
        "\n",
        "    # Print results\n",
        "    print(f\"{int(confidence_level * 100)}% Confidence Interval for Married Customers:\", confidence_interval_married)\n",
        "    print(f\"{int(confidence_level * 100)}% Confidence Interval for Unmarried Customers:\", confidence_interval_unmarried)\n",
        "    print()\n"
      ],
      "metadata": {
        "colab": {
          "base_uri": "https://localhost:8080/"
        },
        "id": "dIOJRPVVtZ3p",
        "outputId": "a7288a10-cf14-49fc-92a5-328093019171"
      },
      "execution_count": 16,
      "outputs": [
        {
          "output_type": "stream",
          "name": "stdout",
          "text": [
            "90% Confidence Interval for Married Customers: (9207.145163451294, 9368.113259021962)\n",
            "90% Confidence Interval for Unmarried Customers: (9143.252387133818, 9276.49217482986)\n",
            "\n",
            "95% Confidence Interval for Married Customers: (9191.726553149285, 9383.531869323971)\n",
            "95% Confidence Interval for Unmarried Customers: (9130.489781252667, 9289.254780711011)\n",
            "\n",
            "99% Confidence Interval for Married Customers: (9161.591753947543, 9413.666668525713)\n",
            "99% Confidence Interval for Unmarried Customers: (9105.545992027428, 9314.19856993625)\n",
            "\n"
          ]
        }
      ]
    },
    {
      "cell_type": "markdown",
      "source": [
        "# Confidence Intervals Exploration for Marital Status\n",
        "\n",
        "## 90% Confidence Intervals:\n",
        "\n",
        "### Married Customers:\n",
        "- The 90% confidence interval for average spending among married customers is estimated to be (9207.15, 9368.11) USD.\n",
        "\n",
        "### Unmarried Customers:\n",
        "- The 90% confidence interval for average spending among unmarried customers is estimated to be (9143.25, 9276.49) USD.\n",
        "\n",
        "## 95% Confidence Intervals:\n",
        "\n",
        "### Married Customers:\n",
        "- The 95% confidence interval for average spending among married customers is estimated to be (9191.73, 9383.53) USD.\n",
        "\n",
        "### Unmarried Customers:\n",
        "- The 95% confidence interval for average spending among unmarried customers is estimated to be (9130.49, 9289.25) USD.\n",
        "\n",
        "## 99% Confidence Intervals:\n",
        "\n",
        "### Married Customers:\n",
        "- The 99% confidence interval for average spending among married customers is estimated to be (9161.59, 9413.67) USD.\n",
        "\n",
        "### Unmarried Customers:\n",
        "- The 99% confidence interval for average spending among unmarried customers is estimated to be (9105.55, 9314.20) USD.\n",
        "\n",
        "**Observations:**\n",
        "- The width of the confidence interval increases as the confidence level rises, providing a broader range of potential values for the population average.\n",
        "- Higher confidence levels result in wider intervals, offering increased certainty but sacrificing precision.\n",
        "\n",
        "**Business Considerations:**\n",
        "- The choice of confidence interval width should align with the business's risk tolerance and the importance of precision in decision-making.\n",
        "- Consider the trade-off between precision and confidence when interpreting confidence intervals.\n",
        "\n",
        "**Note:** Adjust confidence levels based on business requirements and statistical significance.\n"
      ],
      "metadata": {
        "id": "Cku0ead3uQIw"
      }
    },
    {
      "cell_type": "code",
      "source": [
        "# Assuming 'Age' column has bins as labels (e.g., '0-17', '18-25', '26-35', '36-45', '51-55', '55+')\n",
        "age_groups = ['0-17', '18-25', '26-35', '36-45', '51-55', '55+']\n",
        "\n",
        "# Function to calculate confidence interval\n",
        "def calculate_confidence_interval_age(sample, confidence_level):\n",
        "    sample_mean = sample.mean()\n",
        "    sample_std = sample.std()\n",
        "    sample_size = len(sample)\n",
        "\n",
        "    # Calculate the margin of error\n",
        "    z_score = stats.norm.ppf((1 + confidence_level) / 2)  # 2-tailed test\n",
        "    margin_of_error = z_score * (sample_std / np.sqrt(sample_size))\n",
        "\n",
        "    # Calculate the confidence interval\n",
        "    confidence_interval = (sample_mean - margin_of_error, sample_mean + margin_of_error)\n",
        "\n",
        "    return confidence_interval\n",
        "\n",
        "# Explore different confidence levels for each age group\n",
        "confidence_levels = [0.90, 0.95, 0.99]\n",
        "\n",
        "for age_group in age_groups:\n",
        "    age_sample = df[df['Age'] == age_group]['Purchase']\n",
        "\n",
        "    print(f\"\\n** Age Group: {age_group} **\")\n",
        "\n",
        "    for confidence_level in confidence_levels:\n",
        "        # Calculate confidence interval for the age group\n",
        "        confidence_interval_age = calculate_confidence_interval_age(age_sample, confidence_level)\n",
        "\n",
        "        # Print results\n",
        "        print(f\"{int(confidence_level * 100)}% Confidence Interval for Average Spending:\", confidence_interval_age)\n"
      ],
      "metadata": {
        "colab": {
          "base_uri": "https://localhost:8080/"
        },
        "id": "0xUoVnf_u7YG",
        "outputId": "99dae742-6447-4fbf-f8cc-1c575f98c74e"
      },
      "execution_count": 17,
      "outputs": [
        {
          "output_type": "stream",
          "name": "stdout",
          "text": [
            "\n",
            "** Age Group: 0-17 **\n",
            "90% Confidence Interval for Average Spending: (8660.693169933078, 9286.519991726436)\n",
            "95% Confidence Interval for Average Spending: (8600.747254268435, 9346.465907391079)\n",
            "99% Confidence Interval for Average Spending: (8483.58636258399, 9463.626799075524)\n",
            "\n",
            "** Age Group: 18-25 **\n",
            "90% Confidence Interval for Average Spending: (9044.714127341605, 9274.497245207414)\n",
            "95% Confidence Interval for Average Spending: (9022.703949885052, 9296.507422663968)\n",
            "99% Confidence Interval for Average Spending: (8979.686306591906, 9339.525065957114)\n",
            "\n",
            "** Age Group: 26-35 **\n",
            "90% Confidence Interval for Average Spending: (9169.125732926947, 9333.620654209222)\n",
            "95% Confidence Interval for Average Spending: (9153.369299461547, 9349.377087674622)\n",
            "99% Confidence Interval for Average Spending: (9122.574244050262, 9380.172143085907)\n",
            "\n",
            "** Age Group: 36-45 **\n",
            "90% Confidence Interval for Average Spending: (9140.887658951162, 9373.14499242309)\n",
            "95% Confidence Interval for Average Spending: (9118.640484429454, 9395.392166944797)\n",
            "99% Confidence Interval for Average Spending: (9075.159643816318, 9438.873007557933)\n",
            "\n",
            "** Age Group: 51-55 **\n",
            "90% Confidence Interval for Average Spending: (9260.615378097335, 9658.038246758822)\n",
            "95% Confidence Interval for Average Spending: (9222.54753418532, 9696.106090670837)\n",
            "99% Confidence Interval for Average Spending: (9148.146092689505, 9770.507532166652)\n",
            "\n",
            "** Age Group: 55+ **\n",
            "90% Confidence Interval for Average Spending: (8952.65086269829, 9442.417824170396)\n",
            "95% Confidence Interval for Average Spending: (8905.737678498861, 9489.331008369825)\n",
            "99% Confidence Interval for Average Spending: (8814.048521170604, 9581.020165698083)\n"
          ]
        }
      ]
    },
    {
      "cell_type": "markdown",
      "source": [
        "# Confidence Intervals Exploration for Age Groups\n",
        "\n",
        "## Age Group: 0-17\n",
        "- **90% Confidence Interval:** (8660.69, 9286.52) USD\n",
        "- **95% Confidence Interval:** (8600.75, 9346.47) USD\n",
        "- **99% Confidence Interval:** (8483.59, 9463.63) USD\n",
        "\n",
        "## Age Group: 18-25\n",
        "- **90% Confidence Interval:** (9044.71, 9274.50) USD\n",
        "- **95% Confidence Interval:** (9022.70, 9296.51) USD\n",
        "- **99% Confidence Interval:** (8979.69, 9339.53) USD\n",
        "\n",
        "## Age Group: 26-35\n",
        "- **90% Confidence Interval:** (9169.13, 9333.62) USD\n",
        "- **95% Confidence Interval:** (9153.37, 9349.38) USD\n",
        "- **99% Confidence Interval:** (9122.57, 9380.17) USD\n",
        "\n",
        "## Age Group: 36-45\n",
        "- **90% Confidence Interval:** (9140.89, 9373.14) USD\n",
        "- **95% Confidence Interval:** (9118.64, 9395.39) USD\n",
        "- **99% Confidence Interval:** (9075.16, 9438.87) USD\n",
        "\n",
        "## Age Group: 51-55\n",
        "- **90% Confidence Interval:** (9260.62, 9658.04) USD\n",
        "- **95% Confidence Interval:** (9222.55, 9696.11) USD\n",
        "- **99% Confidence Interval:** (9148.15, 9770.51) USD\n",
        "\n",
        "## Age Group: 55+\n",
        "- **90% Confidence Interval:** (8952.65, 9442.42) USD\n",
        "- **95% Confidence Interval:** (8905.74, 9489.33) USD\n",
        "- **99% Confidence Interval:** (8814.05, 9581.02) USD\n",
        "\n",
        "**Observations:**\n",
        "- Confidence intervals provide a statistical range within which the true population average spending for each age group is likely to fall.\n",
        "- Wider intervals, associated with higher confidence levels, indicate increased certainty but a sacrifice in precision.\n",
        "\n",
        "**Business Considerations:**\n",
        "- Choose confidence levels based on business requirements and risk tolerance.\n",
        "- Consider the trade-off between precision and confidence when interpreting confidence intervals.\n"
      ],
      "metadata": {
        "id": "RXicy5rxwQes"
      }
    },
    {
      "cell_type": "markdown",
      "source": [
        "# Final Insights\n",
        "\n",
        "## Distribution of Variables and Relationships:\n",
        "- **Purchase Amount Distribution:**\n",
        "  - The purchase amounts exhibit a right-skewed distribution, indicating a majority of transactions involve lower amounts, with a few high-value transactions.\n",
        "  - Bivariate analysis suggests a positive correlation between age and purchase amounts, with older age groups tending to spend more.\n",
        "\n",
        "- **Gender and Purchase:**\n",
        "  - Both genders show a similar median spending, ranging from 6000 to 12000.\n",
        "  - The distribution of spending is consistent for males and females, suggesting no significant gender-based differences.\n",
        "\n",
        "- **Marital Status and Purchase:**\n",
        "  - Married individuals exhibit slightly higher spending on average compared to unmarried individuals.\n",
        "  - This difference is not substantial, suggesting that marital status alone may not be a strong predictor of spending behavior.\n",
        "\n",
        "## Generalizing to Population:\n",
        "- The analysis, based on a sample of Walmart Black Friday transactions, provides insights into spending patterns. However, caution is needed when generalizing to the entire population, as the sample may not perfectly represent all Walmart customers.\n",
        "\n",
        "# Recommendations\n",
        "\n",
        "## Actionable Items for Business:\n",
        "\n",
        "1. **Targeted Marketing:**\n",
        "   - Tailor marketing strategies for different age groups based on insights from the analysis.\n",
        "   - Design targeted promotions or discounts to attract customers from specific age brackets.\n",
        "\n",
        "2. **Customer Engagement:**\n",
        "   - Focus on engaging unmarried individuals with promotions or loyalty programs.\n",
        "   - Implement strategies to enhance the shopping experience for this demographic.\n",
        "\n",
        "3. **Product Placement:**\n",
        "   - Ensure a balanced product placement strategy that caters to the diverse audience of both genders.\n",
        "   - Consider adjusting marketing efforts to highlight products appealing to various customer segments.\n",
        "\n",
        "\n",
        "\n"
      ],
      "metadata": {
        "id": "WTFV2ZcpxCo9"
      }
    }
  ]
}